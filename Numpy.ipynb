{
 "cells": [
  {
   "cell_type": "code",
   "execution_count": 14,
   "metadata": {},
   "outputs": [],
   "source": [
    "tinggi = [180, 215, 210, 210, 188, 176, 209, 200] # dalam cm \n",
    "\n",
    "# Import numpy dengan alias np\n",
    "import numpy as np\n",
    "\n",
    "# Buat numpy array dengan list tinggi beri nama variabel np_tinggi\n",
    "np_tinggi = np.array(tinggi)\n",
    "\n"
   ]
  },
  {
   "cell_type": "code",
   "execution_count": 15,
   "metadata": {},
   "outputs": [
    {
     "data": {
      "text/plain": [
       "array([180, 215, 210, 210, 188, 176, 209, 200])"
      ]
     },
     "execution_count": 15,
     "metadata": {},
     "output_type": "execute_result"
    }
   ],
   "source": [
    "# Print tipe data np_baseball\n",
    "np_tinggi"
   ]
  },
  {
   "cell_type": "code",
   "execution_count": 10,
   "metadata": {},
   "outputs": [
    {
     "data": {
      "text/plain": [
       "array([0.018 , 0.0215, 0.021 , 0.021 , 0.0188, 0.0176, 0.0209, 0.02  ])"
      ]
     },
     "execution_count": 10,
     "metadata": {},
     "output_type": "execute_result"
    }
   ],
   "source": [
    "# Buat np_tinggi menjadi dalam satuan meter\n",
    "np_tinggi = np_tinggi / 100\n",
    "\n",
    "# print np_tinggi\n",
    "np_tinggi"
   ]
  },
  {
   "cell_type": "code",
   "execution_count": 19,
   "metadata": {},
   "outputs": [
    {
     "data": {
      "text/plain": [
       "array([0.00273148, 0.00216333, 0.00222222, 0.00229025, 0.00221537,\n",
       "       0.00210808, 0.00249536, 0.00275   ])"
      ]
     },
     "execution_count": 19,
     "metadata": {},
     "output_type": "execute_result"
    }
   ],
   "source": [
    "berat = [88.5, 100, 98, 101, 78.3, 65.3, 109, 110]\n",
    "\n",
    "# Buatlah numpy array dari list berat dan simpan dalam np_berat\n",
    "np_berat = np.array(berat)\n",
    "\n",
    "\n",
    "# hitung bmi dari berat dan tinggi simpan ke dalam variabel bmi\n",
    "bmi = np_berat / np_tinggi ** 2\n",
    "bmi"
   ]
  },
  {
   "cell_type": "code",
   "execution_count": 35,
   "metadata": {},
   "outputs": [
    {
     "data": {
      "text/plain": [
       "array([False, False, False, False, False, False, False, False])"
      ]
     },
     "execution_count": 35,
     "metadata": {},
     "output_type": "execute_result"
    }
   ],
   "source": [
    "# Buatalah numpy array boolean dengan denga operator > untuk mencari bmi yang lebih besar dari 23\n",
    "np_bmi = bmi > 23\n",
    "\n",
    "np_bmi\n"
   ]
  },
  {
   "cell_type": "code",
   "execution_count": 36,
   "metadata": {},
   "outputs": [],
   "source": [
    "# Simpan dalam variabel bmi_tinggi\n",
    "bmi_tinggi = np_bmi"
   ]
  },
  {
   "cell_type": "code",
   "execution_count": 39,
   "metadata": {},
   "outputs": [
    {
     "data": {
      "text/plain": [
       "array([False, False, False, False, False, False, False, False])"
      ]
     },
     "execution_count": 39,
     "metadata": {},
     "output_type": "execute_result"
    }
   ],
   "source": [
    "# Partisi numpy array bmi dengan menggunkan bmi_tinggi untuk mencari bmi yang hanya lebih besar dari 23\n",
    "np_bmi = bmi_tinggi \n",
    "np_bmi = bmi > 23\n",
    "np_bmi\n"
   ]
  },
  {
   "cell_type": "code",
   "execution_count": 43,
   "metadata": {},
   "outputs": [],
   "source": [
    "#B"
   ]
  },
  {
   "cell_type": "code",
   "execution_count": 49,
   "metadata": {},
   "outputs": [
    {
     "data": {
      "text/plain": [
       "110.0"
      ]
     },
     "execution_count": 49,
     "metadata": {},
     "output_type": "execute_result"
    }
   ],
   "source": [
    "# print hasil np_berat yang melik index terakhir\n",
    "np_berat[7]\n",
    "\n",
    "\n"
   ]
  },
  {
   "cell_type": "code",
   "execution_count": 50,
   "metadata": {},
   "outputs": [
    {
     "data": {
      "text/plain": [
       "array([180, 215, 210, 210, 188])"
      ]
     },
     "execution_count": 50,
     "metadata": {},
     "output_type": "execute_result"
    }
   ],
   "source": [
    "# print 5 elemen terakhir dari np_tinggi\n",
    "np_tinggi[0:5]"
   ]
  },
  {
   "cell_type": "code",
   "execution_count": 55,
   "metadata": {},
   "outputs": [
    {
     "data": {
      "text/plain": [
       "array([[180. ,  78.4],\n",
       "       [215. , 102.7],\n",
       "       [210. ,  98.5],\n",
       "       [188. ,  75.2]])"
      ]
     },
     "execution_count": 55,
     "metadata": {},
     "output_type": "execute_result"
    }
   ],
   "source": [
    "pemain_basket = [[180, 78.4],\n",
    "                [215, 102.7],\n",
    "                [210, 98.5],\n",
    "                [188, 75.2]]\n",
    "\n",
    "# Buatlah 2D array dari pemain_basket simpan dalam variabel basket_2d\n",
    "\n",
    "basket_2d = np.array([[180, 78.4],[215, 102.7],[210, 98.5],[188, 75.2]])\n",
    "\n",
    "# print tipe dari basket_2d\n",
    "basket_2d\n"
   ]
  },
  {
   "cell_type": "code",
   "execution_count": 56,
   "metadata": {},
   "outputs": [
    {
     "name": "stdout",
     "output_type": "stream",
     "text": [
      "[[180.   78.4]\n",
      " [215.  102.7]\n",
      " [210.   98.5]\n",
      " [188.   75.2]]\n"
     ]
    }
   ],
   "source": [
    "# print basket_2d\n",
    "print(basket_2d)\n"
   ]
  },
  {
   "cell_type": "code",
   "execution_count": 57,
   "metadata": {},
   "outputs": [
    {
     "data": {
      "text/plain": [
       "(4, 2)"
      ]
     },
     "execution_count": 57,
     "metadata": {},
     "output_type": "execute_result"
    }
   ],
   "source": [
    "# print dimensi dari basket_2d dengan basket_2d.shape\n",
    "basket_2d.shape\n"
   ]
  },
  {
   "cell_type": "code",
   "execution_count": 59,
   "metadata": {},
   "outputs": [
    {
     "data": {
      "text/plain": [
       "array([[180.],\n",
       "       [215.],\n",
       "       [210.],\n",
       "       [188.]])"
      ]
     },
     "execution_count": 59,
     "metadata": {},
     "output_type": "execute_result"
    }
   ],
   "source": [
    "# Gunakan slicing untuk untuk mengambil hanya kolom pertama dari basket_2d\n",
    "\n",
    "basket_2d[:,0:1]\n",
    "\n",
    "\n"
   ]
  },
  {
   "cell_type": "code",
   "execution_count": 66,
   "metadata": {},
   "outputs": [
    {
     "data": {
      "text/plain": [
       "array([210. ,  98.5])"
      ]
     },
     "execution_count": 66,
     "metadata": {},
     "output_type": "execute_result"
    }
   ],
   "source": [
    "# Gunakan slicing untuk mendapatkan 2 baris terakhir dan hanya kolom kedua dari basket_2d\n",
    "basket_2d[2,:]\n"
   ]
  },
  {
   "cell_type": "code",
   "execution_count": 64,
   "metadata": {},
   "outputs": [
    {
     "name": "stdout",
     "output_type": "stream",
     "text": [
      "[[ 2  4]\n",
      " [ 6  8]\n",
      " [10 12]]\n",
      "[[11 12]\n",
      " [13 14]\n",
      " [15 16]]\n",
      "[[ 2  4]\n",
      " [ 6  8]\n",
      " [10 12]]\n"
     ]
    }
   ],
   "source": [
    "np_mat = np.array([[1, 2],\n",
    "                   [3, 4],\n",
    "                   [5, 6]])\n",
    "print(np_mat * 2)\n",
    "print(np_mat + np.array([10, 10]))\n",
    "print(np_mat + np_mat)"
   ]
  },
  {
   "cell_type": "code",
   "execution_count": 81,
   "metadata": {},
   "outputs": [
    {
     "name": "stdout",
     "output_type": "stream",
     "text": [
      "[[216.  105.5]\n",
      " [218.  107.5]\n",
      " [220.  109.5]]\n"
     ]
    }
   ],
   "source": [
    "# Print dengan tambahkan berat dari basket_2d (kolom kedua) dengan 5 \n",
    "berat=(basket_2d + 5)\n",
    "berat\n",
    "# berat[2,:]\n",
    "print (np_mat + berat[2,:])\n",
    "\n"
   ]
  },
  {
   "cell_type": "code",
   "execution_count": 83,
   "metadata": {},
   "outputs": [
    {
     "data": {
      "text/plain": [
       "array([[1.8  , 0.784],\n",
       "       [2.15 , 1.027],\n",
       "       [2.1  , 0.985],\n",
       "       [1.88 , 0.752]])"
      ]
     },
     "execution_count": 83,
     "metadata": {},
     "output_type": "execute_result"
    }
   ],
   "source": [
    "# Print dengan mengubah tinggi basket_2d (kolom pertama) yang awalnya satuannya cm menjadi m\n",
    "tinggi=(basket_2d /100) \n",
    "tinggi "
   ]
  },
  {
   "cell_type": "code",
   "execution_count": 84,
   "metadata": {},
   "outputs": [
    {
     "data": {
      "text/plain": [
       "198.5"
      ]
     },
     "execution_count": 84,
     "metadata": {},
     "output_type": "execute_result"
    }
   ],
   "source": [
    "# Berapakah mean dari np_tinggi? Kemudian print\n",
    "\n",
    "np.mean(np_tinggi)\n",
    "\n"
   ]
  },
  {
   "cell_type": "code",
   "execution_count": 85,
   "metadata": {},
   "outputs": [
    {
     "data": {
      "text/plain": [
       "204.5"
      ]
     },
     "execution_count": 85,
     "metadata": {},
     "output_type": "execute_result"
    }
   ],
   "source": [
    "# Berapakah median dari np_tinggi? Kemudian print\n",
    "\n",
    "np.median(np_tinggi)\n"
   ]
  },
  {
   "cell_type": "code",
   "execution_count": null,
   "metadata": {},
   "outputs": [],
   "source": [
    "# Print tinggi dari basket_2d (kolom pertama)\n",
    "rata_rata = ____\n",
    "print(\"Rata - Rata: \" + ____ )\n",
    "\n",
    "# Print median dari tinggi basket_2d\n",
    "med = ___\n",
    "print(\"Median: \" + ____)\n",
    "\n",
    "# Print standar deviasi dari basket_2d\n",
    "stddev = ____\n",
    "print(\"Standard Deviation: \" + ____)\n",
    "\n",
    "# Print korelasi antara kolom pertama dengan kedua dari basket_2d\n",
    "korelasi = _____\n",
    "print(\"Korealasi: \" + ___)"
   ]
  }
 ],
 "metadata": {
  "kernelspec": {
   "display_name": "Python 3",
   "language": "python",
   "name": "python3"
  },
  "language_info": {
   "codemirror_mode": {
    "name": "ipython",
    "version": 3
   },
   "file_extension": ".py",
   "mimetype": "text/x-python",
   "name": "python",
   "nbconvert_exporter": "python",
   "pygments_lexer": "ipython3",
   "version": "3.8.5"
  }
 },
 "nbformat": 4,
 "nbformat_minor": 4
}
